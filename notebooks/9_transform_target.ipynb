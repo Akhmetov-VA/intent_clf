{
 "cells": [
  {
   "cell_type": "code",
   "execution_count": 3,
   "metadata": {},
   "outputs": [],
   "source": [
    "import pandas as pd"
   ]
  },
  {
   "cell_type": "code",
   "execution_count": 21,
   "metadata": {},
   "outputs": [],
   "source": [
    "df = pd.read_csv('/home/vadim/vadim/intent_clf/data/communications_classified.csv')"
   ]
  },
  {
   "cell_type": "code",
   "execution_count": 22,
   "metadata": {},
   "outputs": [],
   "source": [
    "df = df[df['level1_intent'].notna() & df['level2_intent'].notna()]"
   ]
  },
  {
   "cell_type": "code",
   "execution_count": 28,
   "metadata": {},
   "outputs": [],
   "source": [
    "df = df[~df['combined_messages'].duplicated('first')]"
   ]
  },
  {
   "cell_type": "code",
   "execution_count": 29,
   "metadata": {},
   "outputs": [
    {
     "data": {
      "text/html": [
       "<div>\n",
       "<style scoped>\n",
       "    .dataframe tbody tr th:only-of-type {\n",
       "        vertical-align: middle;\n",
       "    }\n",
       "\n",
       "    .dataframe tbody tr th {\n",
       "        vertical-align: top;\n",
       "    }\n",
       "\n",
       "    .dataframe thead th {\n",
       "        text-align: right;\n",
       "    }\n",
       "</style>\n",
       "<table border=\"1\" class=\"dataframe\">\n",
       "  <thead>\n",
       "    <tr style=\"text-align: right;\">\n",
       "      <th></th>\n",
       "      <th>communication_id</th>\n",
       "      <th>original_communication_id</th>\n",
       "      <th>sequence_number</th>\n",
       "      <th>combined_messages</th>\n",
       "      <th>operator_response</th>\n",
       "      <th>start_time</th>\n",
       "      <th>end_time</th>\n",
       "      <th>message_count</th>\n",
       "      <th>level1_intent</th>\n",
       "      <th>level1_response</th>\n",
       "      <th>level2_intent</th>\n",
       "      <th>level2_response</th>\n",
       "    </tr>\n",
       "  </thead>\n",
       "  <tbody>\n",
       "    <tr>\n",
       "      <th>0</th>\n",
       "      <td>2102_0</td>\n",
       "      <td>2102</td>\n",
       "      <td>0</td>\n",
       "      <td>Application not completed | Login problem</td>\n",
       "      <td>Hi, Thank you for reaching out to Viva Money. ...</td>\n",
       "      <td>2024-01-05 13:42:14</td>\n",
       "      <td>2024-01-05 14:58:50</td>\n",
       "      <td>2</td>\n",
       "      <td>Application Related</td>\n",
       "      <td>Application Related</td>\n",
       "      <td>Login Issue</td>\n",
       "      <td>Login Issue</td>\n",
       "    </tr>\n",
       "    <tr>\n",
       "      <th>1</th>\n",
       "      <td>2102_1</td>\n",
       "      <td>2102</td>\n",
       "      <td>1</td>\n",
       "      <td>Ok</td>\n",
       "      <td>Also request you to please share your register...</td>\n",
       "      <td>2024-01-05 17:49:49</td>\n",
       "      <td>2024-01-05 19:14:34</td>\n",
       "      <td>1</td>\n",
       "      <td>Other Related</td>\n",
       "      <td>Other Related</td>\n",
       "      <td>Others</td>\n",
       "      <td>Others</td>\n",
       "    </tr>\n",
       "    <tr>\n",
       "      <th>2</th>\n",
       "      <td>2198_0</td>\n",
       "      <td>2198</td>\n",
       "      <td>0</td>\n",
       "      <td>What the heck paid 3mi and still it is showing...</td>\n",
       "      <td>Hi! Thank you for reaching out to us. Apologie...</td>\n",
       "      <td>2024-02-01 09:04:42</td>\n",
       "      <td>2024-02-01 11:00:40</td>\n",
       "      <td>2</td>\n",
       "      <td>Payment Related</td>\n",
       "      <td>Payment Related</td>\n",
       "      <td>Payment Not Reflecting in App</td>\n",
       "      <td>Payment Not Reflecting in App</td>\n",
       "    </tr>\n",
       "    <tr>\n",
       "      <th>3</th>\n",
       "      <td>2198_1</td>\n",
       "      <td>2198</td>\n",
       "      <td>1</td>\n",
       "      <td>8892379503</td>\n",
       "      <td>Hi, \\nApologies for the in-convenience caused....</td>\n",
       "      <td>2024-02-01 15:16:25</td>\n",
       "      <td>2024-02-01 15:28:04</td>\n",
       "      <td>1</td>\n",
       "      <td>Other Related</td>\n",
       "      <td>Other Related</td>\n",
       "      <td>Others</td>\n",
       "      <td>Others</td>\n",
       "    </tr>\n",
       "    <tr>\n",
       "      <th>4</th>\n",
       "      <td>2762_0</td>\n",
       "      <td>2762</td>\n",
       "      <td>0</td>\n",
       "      <td>[file=227_0db342ad31d89da7c06bd22149fa674a] | ...</td>\n",
       "      <td>Hi, \\nThank you for reaching out to Viva money...</td>\n",
       "      <td>2024-02-07 20:34:44</td>\n",
       "      <td>2024-02-08 11:42:00</td>\n",
       "      <td>4</td>\n",
       "      <td>Payment Related</td>\n",
       "      <td>Payment Related</td>\n",
       "      <td>Payment Not Reflecting in App</td>\n",
       "      <td>Payment Not Reflecting in App</td>\n",
       "    </tr>\n",
       "    <tr>\n",
       "      <th>...</th>\n",
       "      <td>...</td>\n",
       "      <td>...</td>\n",
       "      <td>...</td>\n",
       "      <td>...</td>\n",
       "      <td>...</td>\n",
       "      <td>...</td>\n",
       "      <td>...</td>\n",
       "      <td>...</td>\n",
       "      <td>...</td>\n",
       "      <td>...</td>\n",
       "      <td>...</td>\n",
       "      <td>...</td>\n",
       "    </tr>\n",
       "    <tr>\n",
       "      <th>24988</th>\n",
       "      <td>1009209_0</td>\n",
       "      <td>1009209</td>\n",
       "      <td>0</td>\n",
       "      <td>Hlo | 💵</td>\n",
       "      <td>Hi,\\nThank you for reaching out to Viva Money....</td>\n",
       "      <td>2024-08-21 11:12:41</td>\n",
       "      <td>2024-08-21 16:00:11</td>\n",
       "      <td>2</td>\n",
       "      <td>Other Related</td>\n",
       "      <td>Other Related</td>\n",
       "      <td>Others</td>\n",
       "      <td>Others</td>\n",
       "    </tr>\n",
       "    <tr>\n",
       "      <th>24989</th>\n",
       "      <td>1009226_0</td>\n",
       "      <td>1009226</td>\n",
       "      <td>0</td>\n",
       "      <td>OTP limit</td>\n",
       "      <td>Hi, \\nThank you for reaching out to Viva Money...</td>\n",
       "      <td>2024-08-21 11:20:25</td>\n",
       "      <td>2024-08-21 16:01:22</td>\n",
       "      <td>1</td>\n",
       "      <td>Limit Related</td>\n",
       "      <td>Limit Related</td>\n",
       "      <td>Limit Reduced</td>\n",
       "      <td>Limit Reduced</td>\n",
       "    </tr>\n",
       "    <tr>\n",
       "      <th>24996</th>\n",
       "      <td>1009280_0</td>\n",
       "      <td>1009280</td>\n",
       "      <td>0</td>\n",
       "      <td>Unable to process applications | please help me</td>\n",
       "      <td>Hi Sanjay Ingle,\\nThank you for reaching out t...</td>\n",
       "      <td>2024-08-21 11:40:55</td>\n",
       "      <td>2024-08-21 16:16:40</td>\n",
       "      <td>2</td>\n",
       "      <td>Application Related</td>\n",
       "      <td>Application Related</td>\n",
       "      <td>Server Issue</td>\n",
       "      <td>Server Issue</td>\n",
       "    </tr>\n",
       "    <tr>\n",
       "      <th>24997</th>\n",
       "      <td>1009288_0</td>\n",
       "      <td>1009288</td>\n",
       "      <td>0</td>\n",
       "      <td>Pan name is showing incorrect however i am ent...</td>\n",
       "      <td>Hi, \\nThank you for reaching out to Viva Money...</td>\n",
       "      <td>2024-08-21 11:44:07</td>\n",
       "      <td>2024-08-21 16:17:53</td>\n",
       "      <td>1</td>\n",
       "      <td>Profile Related</td>\n",
       "      <td>Profile Related</td>\n",
       "      <td>Name Change Request</td>\n",
       "      <td>Name Change Request</td>\n",
       "    </tr>\n",
       "    <tr>\n",
       "      <th>24998</th>\n",
       "      <td>1009294_0</td>\n",
       "      <td>1009294</td>\n",
       "      <td>0</td>\n",
       "      <td>I want early full repayment | Please activate ...</td>\n",
       "      <td>Hi,\\nThank you for reaching out.\\nWe understan...</td>\n",
       "      <td>2024-08-21 11:46:32</td>\n",
       "      <td>2024-08-21 16:45:42</td>\n",
       "      <td>2</td>\n",
       "      <td>Foreclosure Related</td>\n",
       "      <td>Foreclosure Related</td>\n",
       "      <td>Request Taken</td>\n",
       "      <td>Request Taken</td>\n",
       "    </tr>\n",
       "  </tbody>\n",
       "</table>\n",
       "<p>12012 rows × 12 columns</p>\n",
       "</div>"
      ],
      "text/plain": [
       "      communication_id  original_communication_id  sequence_number  \\\n",
       "0               2102_0                       2102                0   \n",
       "1               2102_1                       2102                1   \n",
       "2               2198_0                       2198                0   \n",
       "3               2198_1                       2198                1   \n",
       "4               2762_0                       2762                0   \n",
       "...                ...                        ...              ...   \n",
       "24988        1009209_0                    1009209                0   \n",
       "24989        1009226_0                    1009226                0   \n",
       "24996        1009280_0                    1009280                0   \n",
       "24997        1009288_0                    1009288                0   \n",
       "24998        1009294_0                    1009294                0   \n",
       "\n",
       "                                       combined_messages  \\\n",
       "0              Application not completed | Login problem   \n",
       "1                                                     Ok   \n",
       "2      What the heck paid 3mi and still it is showing...   \n",
       "3                                             8892379503   \n",
       "4      [file=227_0db342ad31d89da7c06bd22149fa674a] | ...   \n",
       "...                                                  ...   \n",
       "24988                                            Hlo | 💵   \n",
       "24989                                          OTP limit   \n",
       "24996    Unable to process applications | please help me   \n",
       "24997  Pan name is showing incorrect however i am ent...   \n",
       "24998  I want early full repayment | Please activate ...   \n",
       "\n",
       "                                       operator_response           start_time  \\\n",
       "0      Hi, Thank you for reaching out to Viva Money. ...  2024-01-05 13:42:14   \n",
       "1      Also request you to please share your register...  2024-01-05 17:49:49   \n",
       "2      Hi! Thank you for reaching out to us. Apologie...  2024-02-01 09:04:42   \n",
       "3      Hi, \\nApologies for the in-convenience caused....  2024-02-01 15:16:25   \n",
       "4      Hi, \\nThank you for reaching out to Viva money...  2024-02-07 20:34:44   \n",
       "...                                                  ...                  ...   \n",
       "24988  Hi,\\nThank you for reaching out to Viva Money....  2024-08-21 11:12:41   \n",
       "24989  Hi, \\nThank you for reaching out to Viva Money...  2024-08-21 11:20:25   \n",
       "24996  Hi Sanjay Ingle,\\nThank you for reaching out t...  2024-08-21 11:40:55   \n",
       "24997  Hi, \\nThank you for reaching out to Viva Money...  2024-08-21 11:44:07   \n",
       "24998  Hi,\\nThank you for reaching out.\\nWe understan...  2024-08-21 11:46:32   \n",
       "\n",
       "                  end_time  message_count        level1_intent  \\\n",
       "0      2024-01-05 14:58:50              2  Application Related   \n",
       "1      2024-01-05 19:14:34              1        Other Related   \n",
       "2      2024-02-01 11:00:40              2      Payment Related   \n",
       "3      2024-02-01 15:28:04              1        Other Related   \n",
       "4      2024-02-08 11:42:00              4      Payment Related   \n",
       "...                    ...            ...                  ...   \n",
       "24988  2024-08-21 16:00:11              2        Other Related   \n",
       "24989  2024-08-21 16:01:22              1        Limit Related   \n",
       "24996  2024-08-21 16:16:40              2  Application Related   \n",
       "24997  2024-08-21 16:17:53              1      Profile Related   \n",
       "24998  2024-08-21 16:45:42              2  Foreclosure Related   \n",
       "\n",
       "           level1_response                  level2_intent  \\\n",
       "0      Application Related                    Login Issue   \n",
       "1            Other Related                         Others   \n",
       "2          Payment Related  Payment Not Reflecting in App   \n",
       "3            Other Related                         Others   \n",
       "4          Payment Related  Payment Not Reflecting in App   \n",
       "...                    ...                            ...   \n",
       "24988        Other Related                         Others   \n",
       "24989        Limit Related                  Limit Reduced   \n",
       "24996  Application Related                   Server Issue   \n",
       "24997      Profile Related            Name Change Request   \n",
       "24998  Foreclosure Related                  Request Taken   \n",
       "\n",
       "                     level2_response  \n",
       "0                        Login Issue  \n",
       "1                             Others  \n",
       "2      Payment Not Reflecting in App  \n",
       "3                             Others  \n",
       "4      Payment Not Reflecting in App  \n",
       "...                              ...  \n",
       "24988                         Others  \n",
       "24989                  Limit Reduced  \n",
       "24996                   Server Issue  \n",
       "24997            Name Change Request  \n",
       "24998                  Request Taken  \n",
       "\n",
       "[12012 rows x 12 columns]"
      ]
     },
     "execution_count": 29,
     "metadata": {},
     "output_type": "execute_result"
    }
   ],
   "source": [
    "df"
   ]
  },
  {
   "cell_type": "code",
   "execution_count": 30,
   "metadata": {},
   "outputs": [
    {
     "name": "stderr",
     "output_type": "stream",
     "text": [
      "/tmp/ipykernel_454225/3561189498.py:1: SettingWithCopyWarning: \n",
      "A value is trying to be set on a copy of a slice from a DataFrame.\n",
      "Try using .loc[row_indexer,col_indexer] = value instead\n",
      "\n",
      "See the caveats in the documentation: https://pandas.pydata.org/pandas-docs/stable/user_guide/indexing.html#returning-a-view-versus-a-copy\n",
      "  df['target'] = df.apply(lambda row: row['level1_intent']+'/'+row['level2_intent'], axis=1)\n"
     ]
    }
   ],
   "source": [
    "df['target'] = df.apply(lambda row: row['level1_intent']+'/'+row['level2_intent'], axis=1)"
   ]
  },
  {
   "cell_type": "code",
   "execution_count": 31,
   "metadata": {},
   "outputs": [],
   "source": [
    "df.to_csv('../data/llm_markup.csv')"
   ]
  },
  {
   "cell_type": "code",
   "execution_count": 17,
   "metadata": {},
   "outputs": [
    {
     "data": {
      "text/plain": [
       "'Application not completed | Login problem'"
      ]
     },
     "execution_count": 17,
     "metadata": {},
     "output_type": "execute_result"
    }
   ],
   "source": [
    "df.iloc[0]['combined_messages']"
   ]
  },
  {
   "cell_type": "code",
   "execution_count": 19,
   "metadata": {},
   "outputs": [
    {
     "data": {
      "text/plain": [
       "'Application Related/Login Issue'"
      ]
     },
     "execution_count": 19,
     "metadata": {},
     "output_type": "execute_result"
    }
   ],
   "source": [
    "df.iloc[0]['target']"
   ]
  },
  {
   "cell_type": "code",
   "execution_count": 20,
   "metadata": {},
   "outputs": [
    {
     "data": {
      "text/plain": [
       "communication_id                                                        2102_0\n",
       "original_communication_id                                                 2102\n",
       "sequence_number                                                              0\n",
       "combined_messages                    Application not completed | Login problem\n",
       "operator_response            Hi, Thank you for reaching out to Viva Money. ...\n",
       "start_time                                                 2024-01-05 13:42:14\n",
       "end_time                                                   2024-01-05 14:58:50\n",
       "message_count                                                                2\n",
       "level1_intent                                              Application Related\n",
       "level1_response                                            Application Related\n",
       "level2_intent                                                      Login Issue\n",
       "level2_response                                                    Login Issue\n",
       "target                                         Application Related/Login Issue\n",
       "Name: 0, dtype: object"
      ]
     },
     "execution_count": 20,
     "metadata": {},
     "output_type": "execute_result"
    }
   ],
   "source": [
    "df.iloc[0]"
   ]
  },
  {
   "cell_type": "code",
   "execution_count": null,
   "metadata": {},
   "outputs": [],
   "source": []
  }
 ],
 "metadata": {
  "kernelspec": {
   "display_name": ".venv",
   "language": "python",
   "name": "python3"
  },
  "language_info": {
   "codemirror_mode": {
    "name": "ipython",
    "version": 3
   },
   "file_extension": ".py",
   "mimetype": "text/x-python",
   "name": "python",
   "nbconvert_exporter": "python",
   "pygments_lexer": "ipython3",
   "version": "3.10.12"
  }
 },
 "nbformat": 4,
 "nbformat_minor": 2
}
